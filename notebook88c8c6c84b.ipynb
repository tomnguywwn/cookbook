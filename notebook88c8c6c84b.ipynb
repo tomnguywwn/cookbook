{
 "cells": [
  {
   "cell_type": "code",
   "execution_count": 1,
   "id": "6cc805f1",
   "metadata": {
    "_cell_guid": "b1076dfc-b9ad-4769-8c92-a6c4dae69d19",
    "_uuid": "8f2839f25d086af736a60e9eeb907d3b93b6e0e5",
    "execution": {
     "iopub.execute_input": "2024-03-04T08:37:38.864687Z",
     "iopub.status.busy": "2024-03-04T08:37:38.864236Z",
     "iopub.status.idle": "2024-03-04T08:37:40.110493Z",
     "shell.execute_reply": "2024-03-04T08:37:40.109590Z"
    },
    "papermill": {
     "duration": 1.2595,
     "end_time": "2024-03-04T08:37:40.112905",
     "exception": false,
     "start_time": "2024-03-04T08:37:38.853405",
     "status": "completed"
    },
    "tags": []
   },
   "outputs": [],
   "source": [
    "# This Python 3 environment comes with many helpful analytics libraries installed\n",
    "# It is defined by the kaggle/python Docker image: https://github.com/kaggle/docker-python\n",
    "# For example, here's several helpful packages to load\n",
    "\n",
    "import numpy as np # linear algebra\n",
    "import pandas as pd # data processing, CSV file I/O (e.g. pd.read_csv)\n",
    "\n",
    "# Input data files are available in the read-only \"../input/\" directory\n",
    "# For example, running this (by clicking run or pressing Shift+Enter) will list all files under the input directory\n",
    "\n",
    "import os\n",
    "source_dir=os.path.join('/kaggle/input/img-align-celeba/')\n",
    "# You can write up to 20GB to the current directory (/kaggle/working/) that gets preserved as output when you create a version using \"Save & Run All\" \n",
    "# You can also write temporary files to /kaggle/temp/, but they won't be saved outside of the current session"
   ]
  },
  {
   "cell_type": "markdown",
   "id": "e6dfa535",
   "metadata": {
    "papermill": {
     "duration": 0.008909,
     "end_time": "2024-03-04T08:37:40.132193",
     "exception": false,
     "start_time": "2024-03-04T08:37:40.123284",
     "status": "completed"
    },
    "tags": []
   },
   "source": []
  },
  {
   "cell_type": "code",
   "execution_count": null,
   "id": "e7df2226",
   "metadata": {
    "papermill": {
     "duration": 0.009306,
     "end_time": "2024-03-04T08:37:40.150710",
     "exception": false,
     "start_time": "2024-03-04T08:37:40.141404",
     "status": "completed"
    },
    "tags": []
   },
   "outputs": [],
   "source": []
  },
  {
   "cell_type": "code",
   "execution_count": 2,
   "id": "26f4278d",
   "metadata": {
    "execution": {
     "iopub.execute_input": "2024-03-04T08:37:40.172299Z",
     "iopub.status.busy": "2024-03-04T08:37:40.171285Z",
     "iopub.status.idle": "2024-03-04T08:37:42.544434Z",
     "shell.execute_reply": "2024-03-04T08:37:42.543403Z"
    },
    "papermill": {
     "duration": 2.386591,
     "end_time": "2024-03-04T08:37:42.546934",
     "exception": false,
     "start_time": "2024-03-04T08:37:40.160343",
     "status": "completed"
    },
    "tags": []
   },
   "outputs": [],
   "source": [
    "import h5py\n",
    "import numpy as np\n",
    "import matplotlib.pyplot as plt\n",
    "%matplotlib inline\n",
    "\n",
    "# used to supress display of warnings\n",
    "import warnings\n",
    "\n",
    "from sklearn.metrics import precision_recall_curve,accuracy_score,f1_score,precision_score,recall_score"
   ]
  },
  {
   "cell_type": "code",
   "execution_count": 3,
   "id": "8ed59608",
   "metadata": {
    "execution": {
     "iopub.execute_input": "2024-03-04T08:37:42.568096Z",
     "iopub.status.busy": "2024-03-04T08:37:42.567650Z",
     "iopub.status.idle": "2024-03-04T08:37:42.572084Z",
     "shell.execute_reply": "2024-03-04T08:37:42.571273Z"
    },
    "papermill": {
     "duration": 0.017124,
     "end_time": "2024-03-04T08:37:42.574120",
     "exception": false,
     "start_time": "2024-03-04T08:37:42.556996",
     "status": "completed"
    },
    "tags": []
   },
   "outputs": [],
   "source": [
    "warnings.filterwarnings('ignore')"
   ]
  },
  {
   "cell_type": "code",
   "execution_count": 4,
   "id": "b7ccad87",
   "metadata": {
    "execution": {
     "iopub.execute_input": "2024-03-04T08:37:42.593862Z",
     "iopub.status.busy": "2024-03-04T08:37:42.593543Z",
     "iopub.status.idle": "2024-03-04T08:37:46.462580Z",
     "shell.execute_reply": "2024-03-04T08:37:46.461714Z"
    },
    "papermill": {
     "duration": 3.881335,
     "end_time": "2024-03-04T08:37:46.464902",
     "exception": false,
     "start_time": "2024-03-04T08:37:42.583567",
     "status": "completed"
    },
    "tags": []
   },
   "outputs": [],
   "source": [
    "class IdentityMetadata():\n",
    "    def __init__(self, base, name, file):\n",
    "        self.base = base\n",
    "        # identity name\n",
    "        self.name = name\n",
    "        # image file name\n",
    "        self.file = file\n",
    "\n",
    "    def __repr__(self):\n",
    "        return self.image_path()\n",
    "\n",
    "    def image_path(self):\n",
    "        return os.path.join(self.base, self.name, self.file) \n",
    "    \n",
    "def load_metadata(path):\n",
    "    metadata = []\n",
    "    for i in os.listdir(path):\n",
    "        for f in os.listdir(os.path.join(path, i)):\n",
    "            # Check file extension. Allow only jpg/jpeg' files.\n",
    "            ext = os.path.splitext(f)[1]\n",
    "            if ext == '.jpg' or ext == '.jpeg':\n",
    "                metadata.append(IdentityMetadata(path, i, f))\n",
    "    return np.array(metadata)\n",
    "\n",
    "# metadata = load_metadata('images')\n",
    "metadata = load_metadata(source_dir)"
   ]
  },
  {
   "cell_type": "code",
   "execution_count": 5,
   "id": "cf96bf10",
   "metadata": {
    "execution": {
     "iopub.execute_input": "2024-03-04T08:37:46.485376Z",
     "iopub.status.busy": "2024-03-04T08:37:46.484858Z",
     "iopub.status.idle": "2024-03-04T08:37:46.489477Z",
     "shell.execute_reply": "2024-03-04T08:37:46.488576Z"
    },
    "papermill": {
     "duration": 0.01671,
     "end_time": "2024-03-04T08:37:46.491849",
     "exception": false,
     "start_time": "2024-03-04T08:37:46.475139",
     "status": "completed"
    },
    "tags": []
   },
   "outputs": [
    {
     "name": "stdout",
     "output_type": "stream",
     "text": [
      "metadata shape : (202599,)\n"
     ]
    }
   ],
   "source": [
    "print('metadata shape :', metadata.shape)"
   ]
  },
  {
   "cell_type": "code",
   "execution_count": 6,
   "id": "9ed7b109",
   "metadata": {
    "execution": {
     "iopub.execute_input": "2024-03-04T08:37:46.510426Z",
     "iopub.status.busy": "2024-03-04T08:37:46.510186Z",
     "iopub.status.idle": "2024-03-04T08:37:46.516436Z",
     "shell.execute_reply": "2024-03-04T08:37:46.515572Z"
    },
    "papermill": {
     "duration": 0.017699,
     "end_time": "2024-03-04T08:37:46.518270",
     "exception": false,
     "start_time": "2024-03-04T08:37:46.500571",
     "status": "completed"
    },
    "tags": []
   },
   "outputs": [
    {
     "data": {
      "text/plain": [
       "/kaggle/input/img-align-celeba/img_align_celeba/133339.jpg"
      ]
     },
     "execution_count": 6,
     "metadata": {},
     "output_type": "execute_result"
    }
   ],
   "source": [
    "metadata[1500]"
   ]
  },
  {
   "cell_type": "code",
   "execution_count": 7,
   "id": "12b3f4b1",
   "metadata": {
    "execution": {
     "iopub.execute_input": "2024-03-04T08:37:46.537293Z",
     "iopub.status.busy": "2024-03-04T08:37:46.537048Z",
     "iopub.status.idle": "2024-03-04T08:37:46.542670Z",
     "shell.execute_reply": "2024-03-04T08:37:46.541861Z"
    },
    "papermill": {
     "duration": 0.017394,
     "end_time": "2024-03-04T08:37:46.544547",
     "exception": false,
     "start_time": "2024-03-04T08:37:46.527153",
     "status": "completed"
    },
    "tags": []
   },
   "outputs": [
    {
     "data": {
      "text/plain": [
       "(__main__.IdentityMetadata,\n",
       " '/kaggle/input/img-align-celeba/img_align_celeba/133339.jpg')"
      ]
     },
     "execution_count": 7,
     "metadata": {},
     "output_type": "execute_result"
    }
   ],
   "source": [
    "type(metadata[1500]), metadata[1500].image_path()"
   ]
  },
  {
   "cell_type": "code",
   "execution_count": 8,
   "id": "9671527d",
   "metadata": {
    "execution": {
     "iopub.execute_input": "2024-03-04T08:37:46.563689Z",
     "iopub.status.busy": "2024-03-04T08:37:46.563408Z",
     "iopub.status.idle": "2024-03-04T08:37:46.998035Z",
     "shell.execute_reply": "2024-03-04T08:37:46.997010Z"
    },
    "papermill": {
     "duration": 0.446859,
     "end_time": "2024-03-04T08:37:47.000462",
     "exception": false,
     "start_time": "2024-03-04T08:37:46.553603",
     "status": "completed"
    },
    "tags": []
   },
   "outputs": [],
   "source": [
    "import cv2\n",
    "def load_image(path):\n",
    "    img = cv2.imread(path, 1)\n",
    "    # OpenCV loads images with color channels\n",
    "    # in BGR order. So we need to reverse them\n",
    "    return img[...,::-1]"
   ]
  },
  {
   "cell_type": "code",
   "execution_count": 9,
   "id": "4f3561ac",
   "metadata": {
    "execution": {
     "iopub.execute_input": "2024-03-04T08:37:47.020236Z",
     "iopub.status.busy": "2024-03-04T08:37:47.019933Z",
     "iopub.status.idle": "2024-03-04T08:38:03.992810Z",
     "shell.execute_reply": "2024-03-04T08:38:03.991908Z"
    },
    "papermill": {
     "duration": 16.985581,
     "end_time": "2024-03-04T08:38:03.995438",
     "exception": false,
     "start_time": "2024-03-04T08:37:47.009857",
     "status": "completed"
    },
    "tags": []
   },
   "outputs": [
    {
     "name": "stderr",
     "output_type": "stream",
     "text": [
      "2024-03-04 08:37:50.281380: E external/local_xla/xla/stream_executor/cuda/cuda_dnn.cc:9261] Unable to register cuDNN factory: Attempting to register factory for plugin cuDNN when one has already been registered\n",
      "2024-03-04 08:37:50.281486: E external/local_xla/xla/stream_executor/cuda/cuda_fft.cc:607] Unable to register cuFFT factory: Attempting to register factory for plugin cuFFT when one has already been registered\n",
      "2024-03-04 08:37:50.505801: E external/local_xla/xla/stream_executor/cuda/cuda_blas.cc:1515] Unable to register cuBLAS factory: Attempting to register factory for plugin cuBLAS when one has already been registered\n"
     ]
    }
   ],
   "source": [
    "from tensorflow.keras.models import Sequential\n",
    "from tensorflow.keras.layers import ZeroPadding2D, Convolution2D, MaxPooling2D, Dropout, Flatten, Activation\n",
    "\n",
    "def vgg_face():\t\n",
    "    model = Sequential()\n",
    "    model.add(ZeroPadding2D((1,1),input_shape=(224,224, 3)))\n",
    "    model.add(Convolution2D(64, (3, 3), activation='relu'))\n",
    "    model.add(ZeroPadding2D((1,1)))\n",
    "    model.add(Convolution2D(64, (3, 3), activation='relu'))\n",
    "    model.add(MaxPooling2D((2,2), strides=(2,2)))\n",
    "    \n",
    "    model.add(ZeroPadding2D((1,1)))\n",
    "    model.add(Convolution2D(128, (3, 3), activation='relu'))\n",
    "    model.add(ZeroPadding2D((1,1)))\n",
    "    model.add(Convolution2D(128, (3, 3), activation='relu'))\n",
    "    model.add(MaxPooling2D((2,2), strides=(2,2)))\n",
    "    \n",
    "    model.add(ZeroPadding2D((1,1)))\n",
    "    model.add(Convolution2D(256, (3, 3), activation='relu'))\n",
    "    model.add(ZeroPadding2D((1,1)))\n",
    "    model.add(Convolution2D(256, (3, 3), activation='relu'))\n",
    "    model.add(ZeroPadding2D((1,1)))\n",
    "    model.add(Convolution2D(256, (3, 3), activation='relu'))\n",
    "    model.add(MaxPooling2D((2,2), strides=(2,2)))\n",
    "    \n",
    "    model.add(ZeroPadding2D((1,1)))\n",
    "    model.add(Convolution2D(512, (3, 3), activation='relu'))\n",
    "    model.add(ZeroPadding2D((1,1)))\n",
    "    model.add(Convolution2D(512, (3, 3), activation='relu'))\n",
    "    model.add(ZeroPadding2D((1,1)))\n",
    "    model.add(Convolution2D(512, (3, 3), activation='relu'))\n",
    "    model.add(MaxPooling2D((2,2), strides=(2,2)))\n",
    "    \n",
    "    model.add(ZeroPadding2D((1,1)))\n",
    "    model.add(Convolution2D(512, (3, 3), activation='relu'))\n",
    "    model.add(ZeroPadding2D((1,1)))\n",
    "    model.add(Convolution2D(512, (3, 3), activation='relu'))\n",
    "    model.add(ZeroPadding2D((1,1)))\n",
    "    model.add(Convolution2D(512, (3, 3), activation='relu'))\n",
    "    model.add(MaxPooling2D((2,2), strides=(2,2)))\n",
    "    \n",
    "    model.add(Convolution2D(4096, (7, 7), activation='relu'))\n",
    "    model.add(Dropout(0.5))\n",
    "    model.add(Convolution2D(4096, (1, 1), activation='relu'))\n",
    "    model.add(Dropout(0.5))\n",
    "    model.add(Convolution2D(2622, (1, 1)))\n",
    "    model.add(Flatten())\n",
    "    model.add(Activation('softmax'))\n",
    "    return model"
   ]
  },
  {
   "cell_type": "code",
   "execution_count": 10,
   "id": "961b74f1",
   "metadata": {
    "execution": {
     "iopub.execute_input": "2024-03-04T08:38:04.018246Z",
     "iopub.status.busy": "2024-03-04T08:38:04.017664Z",
     "iopub.status.idle": "2024-03-04T08:38:12.456882Z",
     "shell.execute_reply": "2024-03-04T08:38:12.455869Z"
    },
    "papermill": {
     "duration": 8.453047,
     "end_time": "2024-03-04T08:38:12.459405",
     "exception": false,
     "start_time": "2024-03-04T08:38:04.006358",
     "status": "completed"
    },
    "tags": []
   },
   "outputs": [],
   "source": [
    "model = vgg_face()\n",
    "\n",
    "model.load_weights('../input/vgg-face-weights/vgg_face_weights.h5')"
   ]
  },
  {
   "cell_type": "code",
   "execution_count": 11,
   "id": "a5c53e53",
   "metadata": {
    "execution": {
     "iopub.execute_input": "2024-03-04T08:38:12.483282Z",
     "iopub.status.busy": "2024-03-04T08:38:12.482958Z",
     "iopub.status.idle": "2024-03-04T08:38:12.489092Z",
     "shell.execute_reply": "2024-03-04T08:38:12.488261Z"
    },
    "papermill": {
     "duration": 0.020022,
     "end_time": "2024-03-04T08:38:12.491231",
     "exception": false,
     "start_time": "2024-03-04T08:38:12.471209",
     "status": "completed"
    },
    "tags": []
   },
   "outputs": [
    {
     "data": {
      "text/plain": [
       "(<ZeroPadding2D name=zero_padding2d, built=True>,\n",
       " <Flatten name=flatten, built=True>)"
      ]
     },
     "execution_count": 11,
     "metadata": {},
     "output_type": "execute_result"
    }
   ],
   "source": [
    "model.layers[0], model.layers[-2]"
   ]
  },
  {
   "cell_type": "code",
   "execution_count": 12,
   "id": "d3f0a77c",
   "metadata": {
    "execution": {
     "iopub.execute_input": "2024-03-04T08:38:12.512837Z",
     "iopub.status.busy": "2024-03-04T08:38:12.512536Z",
     "iopub.status.idle": "2024-03-04T08:38:12.524959Z",
     "shell.execute_reply": "2024-03-04T08:38:12.524205Z"
    },
    "papermill": {
     "duration": 0.025404,
     "end_time": "2024-03-04T08:38:12.526894",
     "exception": false,
     "start_time": "2024-03-04T08:38:12.501490",
     "status": "completed"
    },
    "tags": []
   },
   "outputs": [],
   "source": [
    "from tensorflow.keras.models import Model\n",
    "vgg_face_descriptor = Model(inputs=model.layers[0].input, outputs=model.layers[-2].output)"
   ]
  },
  {
   "cell_type": "code",
   "execution_count": 13,
   "id": "512a6372",
   "metadata": {
    "execution": {
     "iopub.execute_input": "2024-03-04T08:38:12.545969Z",
     "iopub.status.busy": "2024-03-04T08:38:12.545714Z",
     "iopub.status.idle": "2024-03-04T08:38:12.550772Z",
     "shell.execute_reply": "2024-03-04T08:38:12.550110Z"
    },
    "papermill": {
     "duration": 0.016623,
     "end_time": "2024-03-04T08:38:12.552613",
     "exception": false,
     "start_time": "2024-03-04T08:38:12.535990",
     "status": "completed"
    },
    "tags": []
   },
   "outputs": [
    {
     "data": {
      "text/plain": [
       "keras.src.models.functional.Functional"
      ]
     },
     "execution_count": 13,
     "metadata": {},
     "output_type": "execute_result"
    }
   ],
   "source": [
    "type(vgg_face_descriptor)"
   ]
  },
  {
   "cell_type": "code",
   "execution_count": 14,
   "id": "c26df05b",
   "metadata": {
    "execution": {
     "iopub.execute_input": "2024-03-04T08:38:12.572380Z",
     "iopub.status.busy": "2024-03-04T08:38:12.571849Z",
     "iopub.status.idle": "2024-03-04T08:38:12.577033Z",
     "shell.execute_reply": "2024-03-04T08:38:12.576274Z"
    },
    "papermill": {
     "duration": 0.017008,
     "end_time": "2024-03-04T08:38:12.578784",
     "exception": false,
     "start_time": "2024-03-04T08:38:12.561776",
     "status": "completed"
    },
    "tags": []
   },
   "outputs": [
    {
     "data": {
      "text/plain": [
       "([<KerasTensor shape=(None, 224, 224, 3), dtype=float32, sparse=None, name=keras_tensor>],\n",
       " [<KerasTensor shape=(None, 2622), dtype=float32, sparse=False, name=keras_tensor_703>])"
      ]
     },
     "execution_count": 14,
     "metadata": {},
     "output_type": "execute_result"
    }
   ],
   "source": [
    "vgg_face_descriptor.inputs, vgg_face_descriptor.outputs"
   ]
  },
  {
   "cell_type": "code",
   "execution_count": 15,
   "id": "31f9fbd1",
   "metadata": {
    "execution": {
     "iopub.execute_input": "2024-03-04T08:38:12.598543Z",
     "iopub.status.busy": "2024-03-04T08:38:12.598275Z",
     "iopub.status.idle": "2024-03-04T08:38:19.830035Z",
     "shell.execute_reply": "2024-03-04T08:38:19.828884Z"
    },
    "papermill": {
     "duration": 7.244194,
     "end_time": "2024-03-04T08:38:19.832244",
     "exception": false,
     "start_time": "2024-03-04T08:38:12.588050",
     "status": "completed"
    },
    "tags": []
   },
   "outputs": [
    {
     "name": "stdout",
     "output_type": "stream",
     "text": [
      "(224, 224, 3)\n",
      "\u001b[1m1/1\u001b[0m \u001b[32m━━━━━━━━━━━━━━━━━━━━\u001b[0m\u001b[37m\u001b[0m \u001b[1m7s\u001b[0m 7s/step\n",
      "(2622,)\n"
     ]
    },
    {
     "name": "stderr",
     "output_type": "stream",
     "text": [
      "WARNING: All log messages before absl::InitializeLog() is called are written to STDERR\n",
      "I0000 00:00:1709541499.804724      77 device_compiler.h:186] Compiled cluster using XLA!  This line is logged at most once for the lifetime of the process.\n"
     ]
    }
   ],
   "source": [
    "# Get embedding vector for first image in the metadata using the pre-trained model\n",
    "img_path = metadata[0].image_path()\n",
    "img = load_image(img_path)\n",
    "\n",
    "# Normalising pixel values from [0-255] to [0-1]: scale RGB values to interval [0,1]\n",
    "img = (img / 255.).astype(np.float32)\n",
    "img = cv2.resize(img, dsize = (224,224))\n",
    "print(img.shape)\n",
    "\n",
    "# Obtain embedding vector for an image\n",
    "# Get the embedding vector for the above image using vgg_face_descriptor model and print the shape \n",
    "embedding_vector = vgg_face_descriptor.predict(np.expand_dims(img, axis=0))[0]\n",
    "print(embedding_vector.shape)"
   ]
  },
  {
   "cell_type": "code",
   "execution_count": 16,
   "id": "9da2cc44",
   "metadata": {
    "execution": {
     "iopub.execute_input": "2024-03-04T08:38:19.855703Z",
     "iopub.status.busy": "2024-03-04T08:38:19.855091Z",
     "iopub.status.idle": "2024-03-04T08:38:19.859960Z",
     "shell.execute_reply": "2024-03-04T08:38:19.858909Z"
    },
    "papermill": {
     "duration": 0.017899,
     "end_time": "2024-03-04T08:38:19.861899",
     "exception": false,
     "start_time": "2024-03-04T08:38:19.844000",
     "status": "completed"
    },
    "tags": []
   },
   "outputs": [
    {
     "name": "stdout",
     "output_type": "stream",
     "text": [
      "total_images : 202599\n"
     ]
    }
   ],
   "source": [
    "total_images = len(metadata)\n",
    "\n",
    "print('total_images :', total_images)"
   ]
  },
  {
   "cell_type": "code",
   "execution_count": 17,
   "id": "012726ac",
   "metadata": {
    "execution": {
     "iopub.execute_input": "2024-03-04T08:38:19.882870Z",
     "iopub.status.busy": "2024-03-04T08:38:19.882618Z",
     "iopub.status.idle": "2024-03-04T08:39:02.830725Z",
     "shell.execute_reply": "2024-03-04T08:39:02.829822Z"
    },
    "papermill": {
     "duration": 42.961222,
     "end_time": "2024-03-04T08:39:02.833205",
     "exception": false,
     "start_time": "2024-03-04T08:38:19.871983",
     "status": "completed"
    },
    "tags": []
   },
   "outputs": [],
   "source": [
    "embeddings = np.load('/kaggle/input/embeddings/embeddings.npy')"
   ]
  },
  {
   "cell_type": "code",
   "execution_count": 18,
   "id": "8246e565",
   "metadata": {
    "execution": {
     "iopub.execute_input": "2024-03-04T08:39:02.856423Z",
     "iopub.status.busy": "2024-03-04T08:39:02.856130Z",
     "iopub.status.idle": "2024-03-04T08:39:02.861038Z",
     "shell.execute_reply": "2024-03-04T08:39:02.860129Z"
    },
    "papermill": {
     "duration": 0.018866,
     "end_time": "2024-03-04T08:39:02.863250",
     "exception": false,
     "start_time": "2024-03-04T08:39:02.844384",
     "status": "completed"
    },
    "tags": []
   },
   "outputs": [
    {
     "name": "stdout",
     "output_type": "stream",
     "text": [
      "embeddings shape : (202599, 2622)\n"
     ]
    }
   ],
   "source": [
    "print('embeddings shape :', embeddings.shape)"
   ]
  },
  {
   "cell_type": "code",
   "execution_count": 19,
   "id": "488c55b6",
   "metadata": {
    "execution": {
     "iopub.execute_input": "2024-03-04T08:39:02.885582Z",
     "iopub.status.busy": "2024-03-04T08:39:02.885255Z",
     "iopub.status.idle": "2024-03-04T08:39:02.889907Z",
     "shell.execute_reply": "2024-03-04T08:39:02.889015Z"
    },
    "papermill": {
     "duration": 0.018424,
     "end_time": "2024-03-04T08:39:02.892026",
     "exception": false,
     "start_time": "2024-03-04T08:39:02.873602",
     "status": "completed"
    },
    "tags": []
   },
   "outputs": [],
   "source": [
    "def distance(emb1, emb2):\n",
    "    return np.sum(np.square(emb1 - emb2))"
   ]
  },
  {
   "cell_type": "code",
   "execution_count": 20,
   "id": "b753eae6",
   "metadata": {
    "execution": {
     "iopub.execute_input": "2024-03-04T08:39:02.914783Z",
     "iopub.status.busy": "2024-03-04T08:39:02.914502Z",
     "iopub.status.idle": "2024-03-04T08:39:02.928159Z",
     "shell.execute_reply": "2024-03-04T08:39:02.927436Z"
    },
    "papermill": {
     "duration": 0.027209,
     "end_time": "2024-03-04T08:39:02.930095",
     "exception": false,
     "start_time": "2024-03-04T08:39:02.902886",
     "status": "completed"
    },
    "tags": []
   },
   "outputs": [],
   "source": [
    "source_dir2 = os.path.join('/kaggle/input/img-input')\n",
    "img_input1 = load_metadata(source_dir2)"
   ]
  },
  {
   "cell_type": "code",
   "execution_count": null,
   "id": "be65d3c8",
   "metadata": {
    "papermill": {
     "duration": 0.01027,
     "end_time": "2024-03-04T08:39:02.951074",
     "exception": false,
     "start_time": "2024-03-04T08:39:02.940804",
     "status": "completed"
    },
    "tags": []
   },
   "outputs": [],
   "source": []
  },
  {
   "cell_type": "code",
   "execution_count": 21,
   "id": "f9c1b913",
   "metadata": {
    "execution": {
     "iopub.execute_input": "2024-03-04T08:39:02.974959Z",
     "iopub.status.busy": "2024-03-04T08:39:02.974660Z",
     "iopub.status.idle": "2024-03-04T08:39:03.458215Z",
     "shell.execute_reply": "2024-03-04T08:39:03.457190Z"
    },
    "papermill": {
     "duration": 0.499026,
     "end_time": "2024-03-04T08:39:03.460771",
     "exception": false,
     "start_time": "2024-03-04T08:39:02.961745",
     "status": "completed"
    },
    "tags": []
   },
   "outputs": [
    {
     "name": "stdout",
     "output_type": "stream",
     "text": [
      "\u001b[1m1/1\u001b[0m \u001b[32m━━━━━━━━━━━━━━━━━━━━\u001b[0m\u001b[37m\u001b[0m \u001b[1m0s\u001b[0m 20ms/step\n",
      "\u001b[1m1/1\u001b[0m \u001b[32m━━━━━━━━━━━━━━━━━━━━\u001b[0m\u001b[37m\u001b[0m \u001b[1m0s\u001b[0m 19ms/step\n",
      "\u001b[1m1/1\u001b[0m \u001b[32m━━━━━━━━━━━━━━━━━━━━\u001b[0m\u001b[37m\u001b[0m \u001b[1m0s\u001b[0m 22ms/step\n",
      "\u001b[1m1/1\u001b[0m \u001b[32m━━━━━━━━━━━━━━━━━━━━\u001b[0m\u001b[37m\u001b[0m \u001b[1m0s\u001b[0m 21ms/step\n",
      "\u001b[1m1/1\u001b[0m \u001b[32m━━━━━━━━━━━━━━━━━━━━\u001b[0m\u001b[37m\u001b[0m \u001b[1m0s\u001b[0m 20ms/step\n"
     ]
    }
   ],
   "source": [
    "embeddings_input = np.zeros((img_input1.shape[0], 2622))\n",
    "for i, m in enumerate(img_input1):\n",
    "    img_path2 = img_input1[i].image_path()\n",
    "    img2 = load_image(img_path2)\n",
    "    img2 = (img2 / 255.).astype(np.float32)\n",
    "    img2 = cv2.resize(img2, dsize = (224,224))\n",
    "    embedding_vector2 = vgg_face_descriptor.predict(np.expand_dims(img2, axis=0))[0]\n",
    "    embeddings_input[i] = embedding_vector2\n"
   ]
  },
  {
   "cell_type": "code",
   "execution_count": 22,
   "id": "10882d1a",
   "metadata": {
    "execution": {
     "iopub.execute_input": "2024-03-04T08:39:03.487513Z",
     "iopub.status.busy": "2024-03-04T08:39:03.487174Z",
     "iopub.status.idle": "2024-03-04T08:39:03.494538Z",
     "shell.execute_reply": "2024-03-04T08:39:03.493603Z"
    },
    "papermill": {
     "duration": 0.023171,
     "end_time": "2024-03-04T08:39:03.496766",
     "exception": false,
     "start_time": "2024-03-04T08:39:03.473595",
     "status": "completed"
    },
    "tags": []
   },
   "outputs": [
    {
     "data": {
      "text/plain": [
       "array([[ 0.00629004,  0.00990794,  0.00998059, ..., -0.02813442,\n",
       "        -0.01123934, -0.00151094],\n",
       "       [-0.00281887, -0.0061203 , -0.018304  , ..., -0.03073436,\n",
       "        -0.00060538,  0.02204285],\n",
       "       [ 0.01530847, -0.00680375,  0.01036573, ..., -0.01001994,\n",
       "        -0.01141698, -0.00696505],\n",
       "       [ 0.0027415 ,  0.00691468, -0.00748272, ..., -0.02529602,\n",
       "         0.00852406,  0.02674595],\n",
       "       [ 0.00511042,  0.0003264 ,  0.00702502, ..., -0.00458573,\n",
       "         0.01671549,  0.02109444]])"
      ]
     },
     "execution_count": 22,
     "metadata": {},
     "output_type": "execute_result"
    }
   ],
   "source": [
    "embeddings_input"
   ]
  },
  {
   "cell_type": "code",
   "execution_count": 23,
   "id": "13cfad2d",
   "metadata": {
    "execution": {
     "iopub.execute_input": "2024-03-04T08:39:03.523246Z",
     "iopub.status.busy": "2024-03-04T08:39:03.522931Z",
     "iopub.status.idle": "2024-03-04T08:39:03.527773Z",
     "shell.execute_reply": "2024-03-04T08:39:03.526936Z"
    },
    "papermill": {
     "duration": 0.020576,
     "end_time": "2024-03-04T08:39:03.529943",
     "exception": false,
     "start_time": "2024-03-04T08:39:03.509367",
     "status": "completed"
    },
    "tags": []
   },
   "outputs": [],
   "source": [
    "np.save('embeddings_input.npy', embeddings_input)"
   ]
  },
  {
   "cell_type": "code",
   "execution_count": 24,
   "id": "671f652a",
   "metadata": {
    "execution": {
     "iopub.execute_input": "2024-03-04T08:39:03.555963Z",
     "iopub.status.busy": "2024-03-04T08:39:03.555659Z",
     "iopub.status.idle": "2024-03-04T08:39:06.299059Z",
     "shell.execute_reply": "2024-03-04T08:39:06.298150Z"
    },
    "papermill": {
     "duration": 2.759249,
     "end_time": "2024-03-04T08:39:06.301584",
     "exception": false,
     "start_time": "2024-03-04T08:39:03.542335",
     "status": "completed"
    },
    "tags": []
   },
   "outputs": [],
   "source": [
    "input_embedding = embeddings_input[4] / np.linalg.norm(embeddings_input[4])\n",
    "distances = np.array([distance(embeddings_input[4], emb) for emb in embeddings])\n",
    "\n",
    "# Find indices of the most similar images\n",
    "num_similar_images = 10  # You can change this according to your requirement\n",
    "most_similar_indices = np.argsort(distances)[:num_similar_images]\n",
    "\n",
    "# Retrieve the most similar images from embeddings\n",
    "most_similar_images = embeddings[most_similar_indices]\n"
   ]
  },
  {
   "cell_type": "code",
   "execution_count": 25,
   "id": "498c7719",
   "metadata": {
    "execution": {
     "iopub.execute_input": "2024-03-04T08:39:06.326802Z",
     "iopub.status.busy": "2024-03-04T08:39:06.326455Z",
     "iopub.status.idle": "2024-03-04T08:39:06.332875Z",
     "shell.execute_reply": "2024-03-04T08:39:06.331974Z"
    },
    "papermill": {
     "duration": 0.021198,
     "end_time": "2024-03-04T08:39:06.334998",
     "exception": false,
     "start_time": "2024-03-04T08:39:06.313800",
     "status": "completed"
    },
    "tags": []
   },
   "outputs": [
    {
     "data": {
      "text/plain": [
       "array([ 45310,  97405, 198612,  45324, 188086, 141258, 123993,  66622,\n",
       "       174677, 114219])"
      ]
     },
     "execution_count": 25,
     "metadata": {},
     "output_type": "execute_result"
    }
   ],
   "source": [
    "most_similar_indices"
   ]
  },
  {
   "cell_type": "code",
   "execution_count": 26,
   "id": "6c17eb58",
   "metadata": {
    "execution": {
     "iopub.execute_input": "2024-03-04T08:39:06.359970Z",
     "iopub.status.busy": "2024-03-04T08:39:06.359674Z",
     "iopub.status.idle": "2024-03-04T08:39:06.365300Z",
     "shell.execute_reply": "2024-03-04T08:39:06.364404Z"
    },
    "papermill": {
     "duration": 0.020408,
     "end_time": "2024-03-04T08:39:06.367422",
     "exception": false,
     "start_time": "2024-03-04T08:39:06.347014",
     "status": "completed"
    },
    "tags": []
   },
   "outputs": [],
   "source": [
    "def show_pair(idx1, idx2):\n",
    "    plt.figure(figsize=(8,3))\n",
    "    plt.suptitle(f'Distance between {idx1} & {idx2}= {distance(embeddings_input[idx1], embeddings[idx2]):.2f}')\n",
    "    plt.subplot(121)\n",
    "    plt.imshow(load_image(img_input1[idx1].image_path()))\n",
    "    plt.subplot(122)\n",
    "    plt.imshow(load_image(metadata[idx2].image_path())); "
   ]
  },
  {
   "cell_type": "code",
   "execution_count": 27,
   "id": "ecfa2944",
   "metadata": {
    "execution": {
     "iopub.execute_input": "2024-03-04T08:39:06.392338Z",
     "iopub.status.busy": "2024-03-04T08:39:06.392017Z",
     "iopub.status.idle": "2024-03-04T08:39:06.903641Z",
     "shell.execute_reply": "2024-03-04T08:39:06.902432Z"
    },
    "papermill": {
     "duration": 0.527745,
     "end_time": "2024-03-04T08:39:06.906846",
     "exception": false,
     "start_time": "2024-03-04T08:39:06.379101",
     "status": "completed"
    },
    "tags": []
   },
   "outputs": [
    {
     "data": {
      "image/png": "[encoded data removed]",
      "text/plain": [
       "<Figure size 800x300 with 2 Axes>"
      ]
     },
     "metadata": {},
     "output_type": "display_data"
    }
   ],
   "source": [
    "show_pair(4,45310)"
   ]
  },
  {
   "cell_type": "code",
   "execution_count": null,
   "id": "ed26dcb6",
   "metadata": {
    "papermill": {
     "duration": 0.013843,
     "end_time": "2024-03-04T08:39:06.935428",
     "exception": false,
     "start_time": "2024-03-04T08:39:06.921585",
     "status": "completed"
    },
    "tags": []
   },
   "outputs": [],
   "source": []
  },
  {
   "cell_type": "code",
   "execution_count": null,
   "id": "06fa8094",
   "metadata": {
    "papermill": {
     "duration": 0.014235,
     "end_time": "2024-03-04T08:39:06.963751",
     "exception": false,
     "start_time": "2024-03-04T08:39:06.949516",
     "status": "completed"
    },
    "tags": []
   },
   "outputs": [],
   "source": []
  },
  {
   "cell_type": "code",
   "execution_count": null,
   "id": "82545b41",
   "metadata": {
    "papermill": {
     "duration": 0.016108,
     "end_time": "2024-03-04T08:39:06.996908",
     "exception": false,
     "start_time": "2024-03-04T08:39:06.980800",
     "status": "completed"
    },
    "tags": []
   },
   "outputs": [],
   "source": []
  }
 ],
 "metadata": {
  "kaggle": {
   "accelerator": "nvidiaTeslaT4",
   "dataSources": [
    {
     "datasetId": 1267072,
     "sourceId": 2111872,
     "sourceType": "datasetVersion"
    },
    {
     "datasetId": 4527796,
     "sourceId": 7745569,
     "sourceType": "datasetVersion"
    },
    {
     "datasetId": 4529143,
     "sourceId": 7747567,
     "sourceType": "datasetVersion"
    },
    {
     "datasetId": 4529191,
     "sourceId": 7747647,
     "sourceType": "datasetVersion"
    }
   ],
   "dockerImageVersionId": 30665,
   "isGpuEnabled": true,
   "isInternetEnabled": true,
   "language": "python",
   "sourceType": "notebook"
  },
  "kernelspec": {
   "display_name": "Python 3",
   "language": "python",
   "name": "python3"
  },
  "language_info": {
   "codemirror_mode": {
    "name": "ipython",
    "version": 3
   },
   "file_extension": ".py",
   "mimetype": "text/x-python",
   "name": "python",
   "nbconvert_exporter": "python",
   "pygments_lexer": "ipython3",
   "version": "3.10.13"
  },
  "papermill": {
   "default_parameters": {},
   "duration": 94.937127,
   "end_time": "2024-03-04T08:39:09.965153",
   "environment_variables": {},
   "exception": null,
   "input_path": "__notebook__.ipynb",
   "output_path": "__notebook__.ipynb",
   "parameters": {},
   "start_time": "2024-03-04T08:37:35.028026",
   "version": "2.5.0"
  }
 },
 "nbformat": 4,
 "nbformat_minor": 5
}
